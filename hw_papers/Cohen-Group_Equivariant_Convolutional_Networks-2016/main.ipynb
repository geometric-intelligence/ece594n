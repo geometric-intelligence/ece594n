{
 "cells": [
  {
   "cell_type": "code",
   "execution_count": 21,
   "metadata": {},
   "outputs": [],
   "source": [
    "import torch.nn as nn\n",
    "import torch.nn.functional as F\n",
    "import torch.optim as optim\n",
    "from torchvision import datasets, transforms\n",
    "from torch.autograd import Variable\n",
    "\n",
    "from groupy.gconv.pytorch_gconv.splitgconv2d import P4ConvZ2, P4ConvP4\n",
    "from groupy.gconv.pytorch_gconv.pooling import plane_group_spatial_max_pooling"
   ]
  },
  {
   "cell_type": "code",
   "execution_count": 22,
   "metadata": {},
   "outputs": [],
   "source": [
    "train_loader = torch.utils.data.DataLoader(\n",
    "    datasets.MNIST('../data', train=True, download=True,\n",
    "                   transform=transforms.Compose([\n",
    "                       transforms.ToTensor(),\n",
    "                       transforms.Normalize((0.1307,), (0.3081,))\n",
    "                   ])),\n",
    "    batch_size=32, shuffle=True)\n",
    "test_loader = torch.utils.data.DataLoader(\n",
    "    datasets.MNIST('../data', train=False, transform=transforms.Compose([\n",
    "                       transforms.ToTensor(),\n",
    "                       transforms.Normalize((0.1307,), (0.3081,))\n",
    "                   ])),\n",
    "    batch_size=32, shuffle=True)"
   ]
  },
  {
   "cell_type": "code",
   "execution_count": 31,
   "metadata": {},
   "outputs": [
    {
     "name": "stderr",
     "output_type": "stream",
     "text": [
      "/var/folders/bs/pjtn_x6x0vlg303wglbxqthm0000gn/T/ipykernel_30098/3207826195.py:22: UserWarning: Implicit dimension choice for log_softmax has been deprecated. Change the call to include dim=X as an argument.\n",
      "  return F.log_softmax(x)\n",
      "/var/folders/bs/pjtn_x6x0vlg303wglbxqthm0000gn/T/ipykernel_30098/3207826195.py:40: UserWarning: volatile was removed and now has no effect. Use `with torch.no_grad():` instead.\n",
      "  data, target = Variable(data, volatile=True), Variable(target)\n",
      "/Users/danielralston/miniconda3/envs/ece594n_cohen2016/lib/python3.8/site-packages/torch/nn/_reduction.py:42: UserWarning: size_average and reduce args will be deprecated, please use reduction='sum' instead.\n",
      "  warnings.warn(warning.format(ret))\n"
     ]
    },
    {
     "name": "stdout",
     "output_type": "stream",
     "text": [
      "Test set: Average loss: 0.1207, Accuracy: 9702/10000 (97%)\n"
     ]
    }
   ],
   "source": [
    "class GCNN(nn.Module):\n",
    "    def __init__(self):\n",
    "        super(GCNN, self).__init__()\n",
    "        self.conv1 = P4ConvZ2(1, 10, kernel_size=3)\n",
    "        self.conv2 = P4ConvP4(10, 10, kernel_size=3)\n",
    "        self.conv3 = P4ConvP4(10, 20, kernel_size=3)\n",
    "        self.conv4 = P4ConvP4(20, 20, kernel_size=3)\n",
    "        self.fc1 = nn.Linear(4*4*20*4, 50)\n",
    "        self.fc2 = nn.Linear(50, 10)\n",
    "\n",
    "    def forward(self, x):\n",
    "        x = F.relu(self.conv1(x))\n",
    "        x = F.relu(self.conv2(x))\n",
    "        x = plane_group_spatial_max_pooling(x, 2, 2)\n",
    "        x = F.relu(self.conv3(x))\n",
    "        x = F.relu(self.conv4(x))\n",
    "        x = plane_group_spatial_max_pooling(x, 2, 2)\n",
    "        x = x.view(x.size()[0], -1)\n",
    "        x = F.relu(self.fc1(x))\n",
    "        x = F.dropout(x, training=self.training)\n",
    "        x = self.fc2(x)\n",
    "        return F.log_softmax(x)\n",
    "\n",
    "gcnn = GCNN()\n",
    "optimizer = optim.Adam(gcnn.parameters(), lr=0.01)\n",
    "gcnn.train()\n",
    "for epoch in range(1):\n",
    "    for batch_idx, (data, target) in enumerate(train_loader):\n",
    "        data, target = Variable(data), Variable(target)\n",
    "        optimizer.zero_grad()\n",
    "        output = gcnn(data)\n",
    "        loss = F.nll_loss(output, target)\n",
    "        loss.backward()\n",
    "        optimizer.step()\n",
    "\n",
    "gcnn.eval()\n",
    "test_loss = 0\n",
    "correct = 0\n",
    "for data, target in test_loader:\n",
    "    data, target = Variable(data, volatile=True), Variable(target)\n",
    "    output = gcnn(data)\n",
    "    test_loss += F.nll_loss(output, target, size_average=False).data.item() # sum up batch loss\n",
    "    pred = output.data.max(1, keepdim=True)[1] # get the index of the max log-probability\n",
    "    correct += pred.eq(target.data.view_as(pred)).cpu().sum()\n",
    "\n",
    "test_loss /= len(test_loader.dataset)\n",
    "print('Test set: Average loss: {:.4f}, Accuracy: {}/{} ({:.0f}%)'.format(\n",
    "    test_loss, correct, len(test_loader.dataset),\n",
    "    100. * correct / len(test_loader.dataset)))\n",
    "\n",
    "\n"
   ]
  },
  {
   "cell_type": "code",
   "execution_count": 32,
   "metadata": {},
   "outputs": [
    {
     "name": "stderr",
     "output_type": "stream",
     "text": [
      "/var/folders/bs/pjtn_x6x0vlg303wglbxqthm0000gn/T/ipykernel_30098/2412500448.py:22: UserWarning: Implicit dimension choice for log_softmax has been deprecated. Change the call to include dim=X as an argument.\n",
      "  return F.log_softmax(x)\n",
      "/var/folders/bs/pjtn_x6x0vlg303wglbxqthm0000gn/T/ipykernel_30098/2412500448.py:40: UserWarning: volatile was removed and now has no effect. Use `with torch.no_grad():` instead.\n",
      "  data, target = Variable(data, volatile=True), Variable(target)\n"
     ]
    },
    {
     "name": "stdout",
     "output_type": "stream",
     "text": [
      "Test set: Average loss: 0.1109, Accuracy: 9674/10000 (97%)\n"
     ]
    }
   ],
   "source": [
    "class CNN(nn.Module):\n",
    "    def __init__(self):\n",
    "        super(CNN, self).__init__()\n",
    "        self.conv1 = nn.Conv2d(in_channels=1,out_channels=10,kernel_size=3)\n",
    "        self.conv2 = nn.Conv2d(in_channels=10,out_channels=10,kernel_size=3)\n",
    "        self.conv3 = nn.Conv2d(in_channels=10,out_channels=20,kernel_size=3)\n",
    "        self.conv4 = nn.Conv2d(in_channels=20,out_channels=20,kernel_size=3)\n",
    "        self.fc1 = nn.Linear(4*4*20, 50)\n",
    "        self.fc2 = nn.Linear(50, 10)\n",
    "\n",
    "    def forward(self, x):\n",
    "        x = F.relu(self.conv1(x))\n",
    "        x = F.relu(self.conv2(x))\n",
    "        x = F.max_pool2d(x, 2, 2)\n",
    "        x = F.relu(self.conv3(x))\n",
    "        x = F.relu(self.conv4(x))\n",
    "        x = F.max_pool2d(x, 2, 2)\n",
    "        x = x.view(x.size()[0], -1)\n",
    "        x = F.relu(self.fc1(x))\n",
    "        x = F.dropout(x, training=self.training)\n",
    "        x = self.fc2(x)\n",
    "        return F.log_softmax(x)\n",
    "    \n",
    "cnn = CNN()\n",
    "optimizer = optim.Adam(cnn.parameters(), lr=0.01)\n",
    "cnn.train()\n",
    "for epoch in range(1):\n",
    "    for batch_idx, (data, target) in enumerate(train_loader):\n",
    "        data, target = Variable(data), Variable(target)\n",
    "        optimizer.zero_grad()\n",
    "        output = cnn(data)\n",
    "        loss = F.nll_loss(output, target)\n",
    "        loss.backward()\n",
    "        optimizer.step()\n",
    "\n",
    "cnn.eval()\n",
    "test_loss = 0\n",
    "correct = 0\n",
    "for data, target in test_loader:\n",
    "    data, target = Variable(data, volatile=True), Variable(target)\n",
    "    output = cnn(data)\n",
    "    test_loss += F.nll_loss(output, target, size_average=False).data.item() # sum up batch loss\n",
    "    pred = output.data.max(1, keepdim=True)[1] # get the index of the max log-probability\n",
    "    correct += pred.eq(target.data.view_as(pred)).cpu().sum()\n",
    "\n",
    "test_loss /= len(test_loader.dataset)\n",
    "print('Test set: Average loss: {:.4f}, Accuracy: {}/{} ({:.0f}%)'.format(\n",
    "    test_loss, correct, len(test_loader.dataset),\n",
    "    100. * correct / len(test_loader.dataset)))"
   ]
  },
  {
   "cell_type": "code",
   "execution_count": 1,
   "metadata": {},
   "outputs": [
    {
     "ename": "ModuleNotFoundError",
     "evalue": "No module named 'groupy.gconv.chainer_gconv.kernels'",
     "output_type": "error",
     "traceback": [
      "\u001b[0;31m---------------------------------------------------------------------------\u001b[0m",
      "\u001b[0;31mModuleNotFoundError\u001b[0m                       Traceback (most recent call last)",
      "\u001b[1;32m/Users/danielralston/Desktop/ece594n/hw_papers/Cohen-Group_Equivariant_Convolutional_Networks-2016/main.ipynb Cell 3\u001b[0m line \u001b[0;36m1\n\u001b[0;32m----> <a href='vscode-notebook-cell:/Users/danielralston/Desktop/ece594n/hw_papers/Cohen-Group_Equivariant_Convolutional_Networks-2016/main.ipynb#W2sZmlsZQ%3D%3D?line=0'>1</a>\u001b[0m \u001b[39mimport\u001b[39;00m \u001b[39mgroupy\u001b[39;00m\u001b[39m.\u001b[39;00m\u001b[39mgconv\u001b[39;00m\u001b[39m.\u001b[39;00m\u001b[39mchainer_gconv\u001b[39;00m\u001b[39m.\u001b[39;00m\u001b[39msplitgconv2d\u001b[39;00m \n",
      "File \u001b[0;32m~/miniconda3/envs/ece594n_cohen2016/lib/python3.8/site-packages/groupy/gconv/chainer_gconv/__init__.py:2\u001b[0m\n\u001b[0;32m----> 2\u001b[0m \u001b[39mfrom\u001b[39;00m \u001b[39mgroupy\u001b[39;00m\u001b[39m.\u001b[39;00m\u001b[39mgconv\u001b[39;00m\u001b[39m.\u001b[39;00m\u001b[39mchainer_gconv\u001b[39;00m\u001b[39m.\u001b[39;00m\u001b[39mp4_conv\u001b[39;00m \u001b[39mimport\u001b[39;00m P4ConvZ2, P4ConvP4\n\u001b[1;32m      3\u001b[0m \u001b[39mfrom\u001b[39;00m \u001b[39mgroupy\u001b[39;00m\u001b[39m.\u001b[39;00m\u001b[39mgconv\u001b[39;00m\u001b[39m.\u001b[39;00m\u001b[39mchainer_gconv\u001b[39;00m\u001b[39m.\u001b[39;00m\u001b[39mp4m_conv\u001b[39;00m \u001b[39mimport\u001b[39;00m P4MConvZ2, P4MConvP4M\n",
      "File \u001b[0;32m~/miniconda3/envs/ece594n_cohen2016/lib/python3.8/site-packages/groupy/gconv/chainer_gconv/p4_conv.py:1\u001b[0m\n\u001b[0;32m----> 1\u001b[0m \u001b[39mfrom\u001b[39;00m \u001b[39mgroupy\u001b[39;00m\u001b[39m.\u001b[39;00m\u001b[39mgconv\u001b[39;00m\u001b[39m.\u001b[39;00m\u001b[39mchainer_gconv\u001b[39;00m\u001b[39m.\u001b[39;00m\u001b[39msplitgconv2d\u001b[39;00m \u001b[39mimport\u001b[39;00m SplitGConv2D\n\u001b[1;32m      2\u001b[0m \u001b[39mfrom\u001b[39;00m \u001b[39mgroupy\u001b[39;00m\u001b[39m.\u001b[39;00m\u001b[39mgconv\u001b[39;00m\u001b[39m.\u001b[39;00m\u001b[39mmake_gconv_indices\u001b[39;00m \u001b[39mimport\u001b[39;00m make_c4_z2_indices, make_c4_p4_indices\n\u001b[1;32m      5\u001b[0m \u001b[39mclass\u001b[39;00m \u001b[39mP4ConvZ2\u001b[39;00m(SplitGConv2D):\n",
      "File \u001b[0;32m~/miniconda3/envs/ece594n_cohen2016/lib/python3.8/site-packages/groupy/gconv/chainer_gconv/splitgconv2d.py:10\u001b[0m\n\u001b[1;32m      7\u001b[0m \u001b[39mfrom\u001b[39;00m \u001b[39mchainer\u001b[39;00m \u001b[39mimport\u001b[39;00m Variable\n\u001b[1;32m      8\u001b[0m \u001b[39mfrom\u001b[39;00m \u001b[39mchainer\u001b[39;00m\u001b[39m.\u001b[39;00m\u001b[39mutils\u001b[39;00m \u001b[39mimport\u001b[39;00m type_check\n\u001b[0;32m---> 10\u001b[0m \u001b[39mfrom\u001b[39;00m \u001b[39mgroupy\u001b[39;00m\u001b[39m.\u001b[39;00m\u001b[39mgconv\u001b[39;00m\u001b[39m.\u001b[39;00m\u001b[39mchainer_gconv\u001b[39;00m\u001b[39m.\u001b[39;00m\u001b[39mtransform_filter\u001b[39;00m \u001b[39mimport\u001b[39;00m TransformGFilter\n\u001b[1;32m     12\u001b[0m \u001b[39m# Implementation note:\u001b[39;00m\n\u001b[1;32m     13\u001b[0m \u001b[39m# The standard operation computed by chainer's Convolution2D is the correlation with filter psi on the right:\u001b[39;00m\n\u001b[1;32m     14\u001b[0m \u001b[39m# output(x) = psi \\corr f(t) = sum_T psi(T) f(t + T) = sum_T f(T) psi(T - t)\u001b[39;00m\n\u001b[0;32m   (...)\u001b[0m\n\u001b[1;32m     18\u001b[0m \u001b[39m#         = int_T f(T) [L_r psi](T - t) dT\u001b[39;00m\n\u001b[1;32m     19\u001b[0m \u001b[39m# This is exactly a Convolution2D correlation of f with the rotated filter [L_r psi].\u001b[39;00m\n\u001b[1;32m     22\u001b[0m \u001b[39mclass\u001b[39;00m \u001b[39mSplitGConv2D\u001b[39;00m(chainer\u001b[39m.\u001b[39mLink):\n",
      "File \u001b[0;32m~/miniconda3/envs/ece594n_cohen2016/lib/python3.8/site-packages/groupy/gconv/chainer_gconv/transform_filter.py:8\u001b[0m\n\u001b[1;32m      5\u001b[0m \u001b[39mfrom\u001b[39;00m \u001b[39mchainer\u001b[39;00m \u001b[39mimport\u001b[39;00m function\n\u001b[1;32m      6\u001b[0m \u001b[39mfrom\u001b[39;00m \u001b[39mchainer\u001b[39;00m\u001b[39m.\u001b[39;00m\u001b[39mutils\u001b[39;00m \u001b[39mimport\u001b[39;00m type_check\n\u001b[0;32m----> 8\u001b[0m \u001b[39mfrom\u001b[39;00m \u001b[39mgroupy\u001b[39;00m\u001b[39m.\u001b[39;00m\u001b[39mgconv\u001b[39;00m\u001b[39m.\u001b[39;00m\u001b[39mchainer_gconv\u001b[39;00m\u001b[39m.\u001b[39;00m\u001b[39mkernels\u001b[39;00m\u001b[39m.\u001b[39;00m\u001b[39minteger_indexing_cuda_kernel\u001b[39;00m \u001b[39mimport\u001b[39;00m grad_index_group_func_kernel\n\u001b[1;32m      9\u001b[0m \u001b[39mfrom\u001b[39;00m \u001b[39mgroupy\u001b[39;00m\u001b[39m.\u001b[39;00m\u001b[39mgconv\u001b[39;00m\u001b[39m.\u001b[39;00m\u001b[39mchainer_gconv\u001b[39;00m\u001b[39m.\u001b[39;00m\u001b[39mkernels\u001b[39;00m\u001b[39m.\u001b[39;00m\u001b[39minteger_indexing_cuda_kernel\u001b[39;00m \u001b[39mimport\u001b[39;00m index_group_func_kernel\n\u001b[1;32m     12\u001b[0m \u001b[39mclass\u001b[39;00m \u001b[39mTransformGFilter\u001b[39;00m(function\u001b[39m.\u001b[39mFunction):\n",
      "\u001b[0;31mModuleNotFoundError\u001b[0m: No module named 'groupy.gconv.chainer_gconv.kernels'"
     ]
    }
   ],
   "source": [
    "import groupy.gconv.chainer_gconv.splitgconv2d "
   ]
  }
 ],
 "metadata": {
  "kernelspec": {
   "display_name": "Python 3 (ipykernel)",
   "language": "python",
   "name": "python3"
  },
  "language_info": {
   "codemirror_mode": {
    "name": "ipython",
    "version": 3
   },
   "file_extension": ".py",
   "mimetype": "text/x-python",
   "name": "python",
   "nbconvert_exporter": "python",
   "pygments_lexer": "ipython3",
   "version": "3.8.18"
  }
 },
 "nbformat": 4,
 "nbformat_minor": 4
}
