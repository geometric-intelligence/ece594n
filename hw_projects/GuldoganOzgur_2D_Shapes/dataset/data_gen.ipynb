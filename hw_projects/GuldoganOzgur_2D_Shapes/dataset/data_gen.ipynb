{
 "cells": [
  {
   "cell_type": "code",
   "execution_count": 1,
   "metadata": {},
   "outputs": [],
   "source": [
    "from shapes import *\n",
    "import turtle\n",
    "import glob\n",
    "import pandas\n",
    "import os\n"
   ]
  },
  {
   "cell_type": "code",
   "execution_count": 3,
   "metadata": {},
   "outputs": [],
   "source": [
    "turtle.colormode(255)\n",
    "\n",
    "# the canvas substract a pixel from the height\n",
    "turtle.setup(width=30, height=30)\n",
    "turtle.hideturtle()\n",
    "turtle.tracer(False)\n",
    "\n",
    "container = turtle.Turtle()\n",
    "current_directory = os.getcwd()\n",
    "destination = current_directory+'/training_data'\n",
    "destination_test = current_directory+'/test_data'"
   ]
  },
  {
   "cell_type": "code",
   "execution_count": 4,
   "metadata": {},
   "outputs": [],
   "source": [
    "__GENERATORS__ = [\n",
    "        Triangle, Circle, Square, Star, Pentagon, Hexagon\n",
    "    ]\n",
    "\n",
    "n_imgs = 1000\n",
    "n_imgs_test = 100"
   ]
  },
  {
   "cell_type": "code",
   "execution_count": 5,
   "metadata": {},
   "outputs": [],
   "source": [
    "for shape in __GENERATORS__:\n",
    "    shape_gen = shape(destination, container)\n",
    "    for i in range(n_imgs):\n",
    "        shape_gen.generate()"
   ]
  },
  {
   "cell_type": "code",
   "execution_count": 6,
   "metadata": {},
   "outputs": [],
   "source": [
    "for shape in __GENERATORS__:\n",
    "    shape_gen = shape(destination_test, container)\n",
    "    for i in range(n_imgs_test):\n",
    "        shape_gen.generate()"
   ]
  },
  {
   "cell_type": "code",
   "execution_count": null,
   "metadata": {},
   "outputs": [],
   "source": [
    "list_of_filenames = glob.glob(destination+'/*')\n",
    "list_of_labels = []\n",
    "\n",
    "list_of_mapping = {\n",
    "    'Triangle': 0,\n",
    "    'Circle': 1,\n",
    "    'Square': 2,\n",
    "    'Star': 3,\n",
    "    'Pentagon': 4,\n",
    "    'Hexagon': 5\n",
    "}\n",
    "\n",
    "len_path = len(destination+'/')\n",
    "len_label = len('_45c91886-dce4-11ee-a046-96da560f1f53.png')\n",
    "for i in range(len(list_of_filenames)):\n",
    "    filename = list_of_filenames[i]\n",
    "    new_filename = filename[len_path:]\n",
    "    list_of_filenames[i] = new_filename\n",
    "    list_of_labels.append(list_of_mapping[new_filename[:-len_label]])\n",
    "\n",
    "df = pd.DataFrame(list(zip(list_of_filenames, list_of_labels)), columns=['filename', 'label'])\n",
    "df.to_csv(destination+'/annotations.csv', index=False)\n"
   ]
  },
  {
   "cell_type": "code",
   "execution_count": null,
   "metadata": {},
   "outputs": [],
   "source": [
    "list_of_filenames = glob.glob(destination_test+'/*')\n",
    "list_of_labels = []\n",
    "\n",
    "len_path = len(destination_test+'/')\n",
    "len_label = len('_45c91886-dce4-11ee-a046-96da560f1f53.png')\n",
    "for i in range(len(list_of_filenames)):\n",
    "    filename = list_of_filenames[i]\n",
    "    new_filename = filename[len_path:]\n",
    "    list_of_filenames[i] = new_filename\n",
    "    list_of_labels.append(list_of_mapping[new_filename[:-len_label]])\n",
    "\n",
    "df = pd.DataFrame(list(zip(list_of_filenames, list_of_labels)), columns=['filename', 'label'])\n",
    "df.to_csv(destination_test+'/annotations.csv', index=False)\n"
   ]
  }
 ],
 "metadata": {
  "kernelspec": {
   "display_name": "shapes",
   "language": "python",
   "name": "shapes"
  }
 },
 "nbformat": 4,
 "nbformat_minor": 2
}
