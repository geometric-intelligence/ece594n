{
 "cells": [
  {
   "cell_type": "markdown",
   "metadata": {},
   "source": [
    "# 2D Geometric Shape Classification"
   ]
  },
  {
   "cell_type": "code",
   "execution_count": 1,
   "metadata": {},
   "outputs": [],
   "source": [
    "# required packages imported\n",
    "\n",
    "import os\n",
    "import pandas as pd\n",
    "from torchvision.io import read_image\n",
    "import torch\n",
    "from torch.utils.data import Dataset\n",
    "from torchvision.transforms import Lambda\n",
    "import matplotlib.pyplot as plt\n",
    "from torchvision.transforms import RandomRotation, Resize\n",
    "from tqdm import tqdm\n",
    "import torch.optim as optim\n",
    "from torch.utils.data import DataLoader\n",
    "import torch.nn as nn\n",
    "import torch.nn.functional as F\n",
    "import numpy as np\n",
    "import warnings\n",
    "warnings.filterwarnings(\"ignore\")"
   ]
  },
  {
   "cell_type": "code",
   "execution_count": 2,
   "metadata": {},
   "outputs": [
    {
     "name": "stdout",
     "output_type": "stream",
     "text": [
      "Using cuda device\n"
     ]
    }
   ],
   "source": [
    "# the device is set as cuda if available, mps if available, else cpu\n",
    "\n",
    "device = (\n",
    "    \"cuda\"\n",
    "    if torch.cuda.is_available()\n",
    "    else \"mps\"\n",
    "    if torch.backends.mps.is_available()\n",
    "    else \"cpu\"\n",
    ")\n",
    "print(f\"Using {device} device\")"
   ]
  },
  {
   "cell_type": "code",
   "execution_count": 3,
   "metadata": {},
   "outputs": [
    {
     "data": {
      "text/plain": [
       "<torch._C.Generator at 0x7f4996668710>"
      ]
     },
     "execution_count": 3,
     "metadata": {},
     "output_type": "execute_result"
    }
   ],
   "source": [
    "# set the seed\n",
    "torch.manual_seed(1)"
   ]
  },
  {
   "cell_type": "code",
   "execution_count": 4,
   "metadata": {},
   "outputs": [],
   "source": [
    "# Custom dataset class is defined to load the images and labels from the csv file\n",
    "# it also applies random rotation if the transform is set to true\n",
    "# the image is upsampled to 200x200 and then downsampled to 49x49 to remove distortion from the rotation\n",
    "\n",
    "class CustomImageDataset(Dataset):\n",
    "    def __init__(self, annotations_file, img_dir, transform=None, target_transform=None):\n",
    "        self.img_labels = pd.read_csv(annotations_file)\n",
    "        self.img_dir = img_dir\n",
    "        self.transform = transform\n",
    "        self.target_transform = target_transform\n",
    "\n",
    "    def __len__(self):\n",
    "        return len(self.img_labels)\n",
    "\n",
    "    def __getitem__(self, idx):\n",
    "        img_path = os.path.join(self.img_dir, self.img_labels.iloc[idx, 0])\n",
    "        image = read_image(img_path)\n",
    "        image = image.float()\n",
    "        image = image[0,:,:]\n",
    "        image = image.reshape((1,49,49))\n",
    "        label = self.img_labels.iloc[idx, 1]\n",
    "        if self.transform:\n",
    "            image = Resize(200)(image)\n",
    "            rotation = RandomRotation(180)\n",
    "            image = rotation(image)\n",
    "            image = Resize(49)(image)\n",
    "        if self.target_transform:\n",
    "            label = self.target_transform(label)\n",
    "        return image, label\n",
    "\n",
    "classes = (\n",
    "    'Triangle',\n",
    "    'Circle',\n",
    "    'Square',\n",
    "    'Star',\n",
    "    'Pentagon',\n",
    "    'Hexagon'\n",
    ")\n",
    "\n",
    "list_of_labels = ['Triangle',\n",
    "    'Circle',\n",
    "    'Square',\n",
    "    'Star',\n",
    "    'Pentagon',\n",
    "    'Hexagon'\n",
    "]"
   ]
  },
  {
   "cell_type": "code",
   "execution_count": 5,
   "metadata": {},
   "outputs": [],
   "source": [
    "# the dataset is loaded and the dataloader is created\n",
    "\n",
    "current_directory = os.getcwd()\n",
    "\n",
    "img_dir = current_directory+'/dataset/training_data'\n",
    "annotation_file = current_directory+'/dataset/training_data/annotations.csv'\n",
    "\n",
    "train_dataset = CustomImageDataset(annotations_file=annotation_file, \n",
    "                             img_dir=img_dir,\n",
    "                             target_transform=Lambda(lambda y: torch.zeros(6, dtype=torch.float).scatter_(0, torch.tensor(y), value=1)))\n",
    "\n",
    "img_dir = current_directory+'/dataset/test_data'\n",
    "annotation_file = current_directory+'/dataset/test_data/annotations.csv'\n",
    "\n",
    "test_dataset = CustomImageDataset(annotations_file=annotation_file,\n",
    "                                img_dir=img_dir, \n",
    "                                target_transform=Lambda(lambda y: torch.zeros(6, dtype=torch.float).scatter_(0, torch.tensor(y), value=1)))\n",
    "\n",
    "test_rotation_dataset = CustomImageDataset(annotations_file=annotation_file, \n",
    "                                            img_dir=img_dir, \n",
    "                                            transform=True,\n",
    "                                            target_transform=Lambda(lambda y: torch.zeros(6, dtype=torch.float).scatter_(0, torch.tensor(y), value=1))\n",
    "                                            )\n",
    "\n",
    "train_dataloader = DataLoader(train_dataset, batch_size=64, shuffle=True)\n",
    "test_dataloader = DataLoader(test_dataset, batch_size=64, shuffle=True)\n",
    "test_rotation_dataloader = DataLoader(test_rotation_dataset, batch_size=64, shuffle=True)"
   ]
  },
  {
   "cell_type": "markdown",
   "metadata": {},
   "source": [
    "All the datasets have the following 2D geometric shapes:\n",
    "\n",
    "Circle, Triangle, Square, Pentagon, Hexagon\n",
    "\n",
    "The images are grayscal and the resolurion is 49x49.\n",
    "\n",
    "Other specifications of the datasets:\n",
    "\n",
    "1 - Training Dataset: 1000 images per shape, fixed rotation of the shape, fixed size of the shape\n",
    "\n",
    "2 - Test Dataset: 100 images per shape, fixed rotation of the shape, fixed size of the shape\n",
    "\n",
    "3 - Test with Rotation Dataset: The test dataset and it applies the following transformation for each image. It upscales the images to 200x200, then applies a random rotation. Finally, the image is downscaled to 49x49."
   ]
  },
  {
   "cell_type": "code",
   "execution_count": 6,
   "metadata": {},
   "outputs": [
    {
     "data": {
      "image/png": "[encoded data removed]",
      "text/plain": [
       "<Figure size 1050x700 with 8 Axes>"
      ]
     },
     "metadata": {},
     "output_type": "display_data"
    }
   ],
   "source": [
    "# the visualisation of the dataset is shown\n",
    "\n",
    "train_features, train_labels = next(iter(train_dataloader))\n",
    "\n",
    "plt.rc('text', usetex = True)\n",
    "plt.rc('font', family='serif')\n",
    "width = 6\n",
    "height = 4\n",
    "fig, ax = plt.subplots(2,4)\n",
    "fig.set_size_inches(width, height) #exact size of the figure\n",
    "fig.set_dpi(175)\n",
    "\n",
    "for i in range(8):\n",
    "    plt.subplot(2, 4, i+1)\n",
    "    plt.imshow(train_features[i].permute(1, 2, 0), cmap='gray')\n",
    "    plt.title(list_of_labels[train_labels[i].argmax().item()])\n",
    "    plt.axis('off')\n",
    "plt.tight_layout()\n",
    "plt.suptitle('Training Dataset')\n",
    "plt.show()"
   ]
  },
  {
   "cell_type": "markdown",
   "metadata": {},
   "source": [
    "The geometric shapes that are considered are circle, triangle, square, pentagon, and star. It can be seen that the training dataset doesn't have any rotation transform, therefore the different generations of the same shape has the exactly same rotation. The only difference is the location of the shape on the image."
   ]
  },
  {
   "cell_type": "code",
   "execution_count": 7,
   "metadata": {},
   "outputs": [
    {
     "data": {
      "image/png": "[encoded data removed]",
      "text/plain": [
       "<Figure size 1050x700 with 8 Axes>"
      ]
     },
     "metadata": {},
     "output_type": "display_data"
    }
   ],
   "source": [
    "test_features, test_labels = next(iter(test_rotation_dataloader))\n",
    "\n",
    "width = 6\n",
    "height = 4\n",
    "fig, ax = plt.subplots(2,4)\n",
    "fig.set_size_inches(width, height) #exact size of the figure\n",
    "fig.set_dpi(175)\n",
    "\n",
    "for i in range(8):\n",
    "    plt.subplot(2, 4, i+1)\n",
    "    plt.imshow(test_features[i].permute(1, 2, 0), cmap='gray')\n",
    "    plt.title(list_of_labels[test_labels[i].argmax().item()])\n",
    "    plt.axis('off')\n",
    "plt.tight_layout()\n",
    "plt.suptitle('Test Dataset with Random Rotations')\n",
    "plt.show()"
   ]
  },
  {
   "cell_type": "markdown",
   "metadata": {},
   "source": [
    "8 random samples of the test dateset with the rotation transform is plotted above. It can be seen that the geometric shapes have a different rotation than the test dataset. The shapes are protecting their structure and they are still distinguishable. Therefore, we do expect that CNNs should learn the geometry of the shape not the alignment of the shape. To test this goal we will use this random rotation dataset."
   ]
  },
  {
   "cell_type": "markdown",
   "metadata": {},
   "source": [
    "## VanillaCNN Initialization and Training"
   ]
  },
  {
   "cell_type": "code",
   "execution_count": 8,
   "metadata": {},
   "outputs": [
    {
     "data": {
      "text/plain": [
       "CNN(\n",
       "  (conv1): Conv2d(1, 6, kernel_size=(5, 5), stride=(1, 1))\n",
       "  (pool): MaxPool2d(kernel_size=2, stride=2, padding=0, dilation=1, ceil_mode=False)\n",
       "  (conv2): Conv2d(6, 16, kernel_size=(5, 5), stride=(1, 1))\n",
       "  (fc1): Linear(in_features=1296, out_features=120, bias=True)\n",
       "  (fc2): Linear(in_features=120, out_features=84, bias=True)\n",
       "  (fc3): Linear(in_features=84, out_features=6, bias=True)\n",
       ")"
      ]
     },
     "execution_count": 8,
     "metadata": {},
     "output_type": "execute_result"
    }
   ],
   "source": [
    "class CNN(nn.Module):\n",
    "    def __init__(self):\n",
    "        super().__init__()\n",
    "        self.conv1 = nn.Conv2d(1, 6, 5)\n",
    "        self.pool = nn.MaxPool2d(2, 2)\n",
    "        self.conv2 = nn.Conv2d(6, 16, 5)\n",
    "        self.fc1 = nn.Linear(1296, 120)\n",
    "        self.fc2 = nn.Linear(120, 84)\n",
    "        self.fc3 = nn.Linear(84, 6)\n",
    "\n",
    "    def forward(self, x):\n",
    "        x = self.pool(F.relu(self.conv1(x)))\n",
    "        x = self.pool(F.relu(self.conv2(x)))\n",
    "        x = torch.flatten(x, 1) # flatten all dimensions except batch\n",
    "        x = F.relu(self.fc1(x))\n",
    "        x = F.relu(self.fc2(x))\n",
    "        x = self.fc3(x)\n",
    "        return x\n",
    "\n",
    "cnn_vanilla = CNN()\n",
    "cnn_vanilla.to(device)"
   ]
  },
  {
   "cell_type": "code",
   "execution_count": 9,
   "metadata": {},
   "outputs": [
    {
     "name": "stderr",
     "output_type": "stream",
     "text": [
      "  0%|          | 0/2 [00:00<?, ?it/s]"
     ]
    },
    {
     "name": "stdout",
     "output_type": "stream",
     "text": [
      "[1,     2] loss: 0.390\n",
      "[1,    22] loss: 1.525\n",
      "[1,    42] loss: 0.515\n",
      "[1,    62] loss: 0.086\n",
      "[1,    82] loss: 0.022\n"
     ]
    },
    {
     "name": "stderr",
     "output_type": "stream",
     "text": [
      " 50%|█████     | 1/2 [00:03<00:03,  3.21s/it]"
     ]
    },
    {
     "name": "stdout",
     "output_type": "stream",
     "text": [
      "[2,     2] loss: 0.001\n",
      "[2,    22] loss: 0.003\n",
      "[2,    42] loss: 0.001\n",
      "[2,    62] loss: 0.001\n",
      "[2,    82] loss: 0.001\n"
     ]
    },
    {
     "name": "stderr",
     "output_type": "stream",
     "text": [
      "100%|██████████| 2/2 [00:05<00:00,  2.55s/it]"
     ]
    },
    {
     "name": "stdout",
     "output_type": "stream",
     "text": [
      "Finished Training\n"
     ]
    },
    {
     "name": "stderr",
     "output_type": "stream",
     "text": [
      "\n"
     ]
    }
   ],
   "source": [
    "criterion = nn.CrossEntropyLoss()\n",
    "optimizer = optim.Adam(cnn_vanilla.parameters(), lr=0.001)\n",
    "\n",
    "for epoch in tqdm(range(2)):  # loop over the dataset multiple times\n",
    "\n",
    "    running_loss = 0.0\n",
    "    for i, data in enumerate(train_dataloader, 0):\n",
    "        # get the inputs; data is a list of [inputs, labels]\n",
    "        inputs, labels = data\n",
    "        inputs = inputs.to(device)\n",
    "        labels = labels.to(device)\n",
    "        # zero the parameter gradients\n",
    "        optimizer.zero_grad()\n",
    "\n",
    "        # forward + backward + optimize\n",
    "        outputs = cnn_vanilla(inputs)\n",
    "        loss = criterion(outputs, labels)\n",
    "        loss.backward()\n",
    "        optimizer.step()\n",
    "\n",
    "        # print statistics\n",
    "        running_loss += loss.item()\n",
    "        if i % 20 == 1:    # print every 20 mini-batches\n",
    "            print(f'[{epoch + 1}, {i + 1:5d}] loss: {running_loss / 20:.3f}')\n",
    "            running_loss = 0.0\n",
    "\n",
    "print('Finished Training')\n",
    "\n",
    "model_directory = current_directory+'/models/cnn_vanilla.pth'\n",
    "torch.save(cnn_vanilla.state_dict(), model_directory)"
   ]
  },
  {
   "cell_type": "markdown",
   "metadata": {},
   "source": [
    "VanillaCNN is trained only for 2 epochs and it has a very low loss for the training dataset. It is expected since this training dataset is very simple."
   ]
  },
  {
   "cell_type": "markdown",
   "metadata": {},
   "source": [
    "### VanillaCNN Accuracy with the Test Datasets"
   ]
  },
  {
   "cell_type": "code",
   "execution_count": 10,
   "metadata": {},
   "outputs": [
    {
     "name": "stdout",
     "output_type": "stream",
     "text": [
      "Accuracy for class: Triangle is 100.0 %\n",
      "Accuracy for class: Circle is 100.0 %\n",
      "Accuracy for class: Square is 100.0 %\n",
      "Accuracy for class: Star  is 100.0 %\n",
      "Accuracy for class: Pentagon is 100.0 %\n",
      "Accuracy for class: Hexagon is 100.0 %\n",
      "Accuracy of the network on the 900 test images: 100 %\n"
     ]
    }
   ],
   "source": [
    "# prepare to count predictions for each class\n",
    "correct_pred = {classname: 0 for classname in classes}\n",
    "total_pred = {classname: 0 for classname in classes}\n",
    "\n",
    "# again no gradients needed\n",
    "with torch.no_grad():\n",
    "    for data in test_dataloader:\n",
    "        images, labels = data\n",
    "        images = images.to(device)\n",
    "        labels = labels.to(device)\n",
    "        labels = torch.argmax(labels, dim=1)\n",
    "        outputs = cnn_vanilla(images)\n",
    "        _, predictions = torch.max(outputs, 1)\n",
    "        # collect the correct predictions for each class\n",
    "        for label, prediction in zip(labels, predictions):\n",
    "            if label == prediction:\n",
    "                correct_pred[classes[label]] += 1\n",
    "            total_pred[classes[label]] += 1\n",
    "\n",
    "correct = 0\n",
    "total = 0\n",
    "# print accuracy for each class\n",
    "for classname, correct_count in correct_pred.items():\n",
    "    accuracy = 100 * float(correct_count) / total_pred[classname]\n",
    "    print(f'Accuracy for class: {classname:5s} is {accuracy:.1f} %')\n",
    "    correct += correct_count\n",
    "    total += total_pred[classname]\n",
    "\n",
    "print(f'Accuracy of the network on the 900 test images: {100 * correct // total} %')"
   ]
  },
  {
   "cell_type": "markdown",
   "metadata": {},
   "source": [
    "It can be seen that VanillaCNN performs perfectly with the test dataset without rotation. This dataset is generated exactly same way as the training dataset but it has fewer images."
   ]
  },
  {
   "cell_type": "code",
   "execution_count": 11,
   "metadata": {},
   "outputs": [
    {
     "name": "stdout",
     "output_type": "stream",
     "text": [
      "Accuracy for class: Triangle is 39.0 %\n",
      "Accuracy for class: Circle is 99.0 %\n",
      "Accuracy for class: Square is 46.0 %\n",
      "Accuracy for class: Star  is 84.0 %\n",
      "Accuracy for class: Pentagon is 48.0 %\n",
      "Accuracy for class: Hexagon is 18.0 %\n",
      "Accuracy of the network on the 900 test images: 55 %\n"
     ]
    }
   ],
   "source": [
    "# prepare to count predictions for each class\n",
    "correct_pred = {classname: 0 for classname in classes}\n",
    "total_pred = {classname: 0 for classname in classes}\n",
    "\n",
    "# again no gradients needed\n",
    "with torch.no_grad():\n",
    "    for data in test_rotation_dataloader:\n",
    "        images, labels = data\n",
    "        images = images.to(device)\n",
    "        labels = labels.to(device)\n",
    "        labels = torch.argmax(labels, dim=1)\n",
    "        outputs = cnn_vanilla(images)\n",
    "        _, predictions = torch.max(outputs, 1)\n",
    "        # collect the correct predictions for each class\n",
    "        for label, prediction in zip(labels, predictions):\n",
    "            if label == prediction:\n",
    "                correct_pred[classes[label]] += 1\n",
    "            total_pred[classes[label]] += 1\n",
    "\n",
    "correct = 0\n",
    "total = 0\n",
    "# print accuracy for each class\n",
    "for classname, correct_count in correct_pred.items():\n",
    "    accuracy = 100 * float(correct_count) / total_pred[classname]\n",
    "    print(f'Accuracy for class: {classname:5s} is {accuracy:.1f} %')\n",
    "    correct += correct_count\n",
    "    total += total_pred[classname]\n",
    "\n",
    "print(f'Accuracy of the network on the 900 test images: {100 * correct // total} %')"
   ]
  },
  {
   "cell_type": "markdown",
   "metadata": {},
   "source": [
    "VanillaCNN performs poorly for the test dataset with the rotations as expected. It aces the circle class, since the circle shape naturally has a SO2 symmetry. It also does a good job for the star shape. It could be due to the nonconvexity of the star shape. Overall, it has a 55% accuracy. "
   ]
  },
  {
   "cell_type": "markdown",
   "metadata": {},
   "source": [
    "## SO2SteerableCNN Initialization and Training"
   ]
  },
  {
   "cell_type": "code",
   "execution_count": 12,
   "metadata": {},
   "outputs": [],
   "source": [
    "from escnn import group\n",
    "from escnn import gspaces\n",
    "from escnn import nn as enn"
   ]
  },
  {
   "cell_type": "code",
   "execution_count": 13,
   "metadata": {},
   "outputs": [
    {
     "data": {
      "text/plain": [
       "SO2SteerableCNN(\n",
       "  (mask): MaskModule()\n",
       "  (block1): SequentialModule(\n",
       "    (0): R2Conv([SO(2)_on_R2[(None, -1)]: {irrep_0 (x1)}(1)], [SO(2)_on_R2[(None, -1)]: {regular_[(0,)|(1,)|(2,)|(3,)] (x8)}(56)], kernel_size=7, stride=1, padding=1, bias=False)\n",
       "    (1): IIDBatchNorm2d([SO(2)_on_R2[(None, -1)]: {regular_[(0,)|(1,)|(2,)|(3,)] (x8)}(56)], eps=1e-05, momentum=0.1, affine=True, track_running_stats=True)\n",
       "    (2): FourierELU()\n",
       "  )\n",
       "  (block2): SequentialModule(\n",
       "    (0): R2Conv([SO(2)_on_R2[(None, -1)]: {regular_[(0,)|(1,)|(2,)|(3,)] (x8)}(56)], [SO(2)_on_R2[(None, -1)]: {regular_[(0,)|(1,)|(2,)|(3,)] (x16)}(112)], kernel_size=5, stride=1, padding=1, bias=False)\n",
       "    (1): IIDBatchNorm2d([SO(2)_on_R2[(None, -1)]: {regular_[(0,)|(1,)|(2,)|(3,)] (x16)}(112)], eps=1e-05, momentum=0.1, affine=True, track_running_stats=True)\n",
       "    (2): FourierELU()\n",
       "  )\n",
       "  (pool1): SequentialModule(\n",
       "    (0): PointwiseAvgPoolAntialiased2D()\n",
       "  )\n",
       "  (block3): SequentialModule(\n",
       "    (0): R2Conv([SO(2)_on_R2[(None, -1)]: {regular_[(0,)|(1,)|(2,)|(3,)] (x16)}(112)], [SO(2)_on_R2[(None, -1)]: {regular_[(0,)|(1,)|(2,)|(3,)] (x32)}(224)], kernel_size=5, stride=1, padding=2, bias=False)\n",
       "    (1): IIDBatchNorm2d([SO(2)_on_R2[(None, -1)]: {regular_[(0,)|(1,)|(2,)|(3,)] (x32)}(224)], eps=1e-05, momentum=0.1, affine=True, track_running_stats=True)\n",
       "    (2): FourierELU()\n",
       "  )\n",
       "  (block4): SequentialModule(\n",
       "    (0): R2Conv([SO(2)_on_R2[(None, -1)]: {regular_[(0,)|(1,)|(2,)|(3,)] (x32)}(224)], [SO(2)_on_R2[(None, -1)]: {regular_[(0,)|(1,)|(2,)|(3,)] (x32)}(224)], kernel_size=5, stride=1, padding=2, bias=False)\n",
       "    (1): IIDBatchNorm2d([SO(2)_on_R2[(None, -1)]: {regular_[(0,)|(1,)|(2,)|(3,)] (x32)}(224)], eps=1e-05, momentum=0.1, affine=True, track_running_stats=True)\n",
       "    (2): FourierELU()\n",
       "  )\n",
       "  (pool2): SequentialModule(\n",
       "    (0): PointwiseAvgPoolAntialiased2D()\n",
       "  )\n",
       "  (block5): SequentialModule(\n",
       "    (0): R2Conv([SO(2)_on_R2[(None, -1)]: {regular_[(0,)|(1,)|(2,)|(3,)] (x32)}(224)], [SO(2)_on_R2[(None, -1)]: {regular_[(0,)|(1,)|(2,)|(3,)] (x64)}(448)], kernel_size=5, stride=1, padding=2, bias=False)\n",
       "    (1): IIDBatchNorm2d([SO(2)_on_R2[(None, -1)]: {regular_[(0,)|(1,)|(2,)|(3,)] (x64)}(448)], eps=1e-05, momentum=0.1, affine=True, track_running_stats=True)\n",
       "    (2): FourierELU()\n",
       "  )\n",
       "  (block6): SequentialModule(\n",
       "    (0): R2Conv([SO(2)_on_R2[(None, -1)]: {regular_[(0,)|(1,)|(2,)|(3,)] (x64)}(448)], [SO(2)_on_R2[(None, -1)]: {regular_[(0,)|(1,)|(2,)|(3,)] (x64)}(448)], kernel_size=5, stride=1, padding=1, bias=False)\n",
       "    (1): IIDBatchNorm2d([SO(2)_on_R2[(None, -1)]: {regular_[(0,)|(1,)|(2,)|(3,)] (x64)}(448)], eps=1e-05, momentum=0.1, affine=True, track_running_stats=True)\n",
       "    (2): FourierELU()\n",
       "  )\n",
       "  (pool3): PointwiseAvgPoolAntialiased2D()\n",
       "  (pool4): PointwiseAvgPoolAntialiased2D()\n",
       "  (invariant_map): R2Conv([SO(2)_on_R2[(None, -1)]: {regular_[(0,)|(1,)|(2,)|(3,)] (x64)}(448)], [SO(2)_on_R2[(None, -1)]: {irrep_0 (x64)}(64)], kernel_size=1, stride=1, bias=False)\n",
       "  (fully_net): Sequential(\n",
       "    (0): BatchNorm1d(64, eps=1e-05, momentum=0.1, affine=True, track_running_stats=True)\n",
       "    (1): ELU(alpha=1.0, inplace=True)\n",
       "    (2): Linear(in_features=64, out_features=6, bias=True)\n",
       "  )\n",
       ")"
      ]
     },
     "execution_count": 13,
     "metadata": {},
     "output_type": "execute_result"
    }
   ],
   "source": [
    "class SO2SteerableCNN(nn.Module):\n",
    "\n",
    "    def __init__(self, n_classes=6):\n",
    "\n",
    "        super(SO2SteerableCNN, self).__init__()\n",
    "\n",
    "        # the model is equivariant under all planar rotations\n",
    "        self.r2_act = gspaces.rot2dOnR2(N=-1)\n",
    "\n",
    "        # the group SO(2)\n",
    "        self.G: SO2 = self.r2_act.fibergroup\n",
    "\n",
    "        # the input image is a scalar field, corresponding to the trivial representation\n",
    "        in_type = enn.FieldType(self.r2_act, [self.r2_act.trivial_repr])\n",
    "\n",
    "        # we store the input type for wrapping the images into a geometric tensor during the forward pass\n",
    "        self.input_type = in_type\n",
    "\n",
    "        # We need to mask the input image since the corners are moved outside the grid under rotations\n",
    "        self.mask = enn.MaskModule(in_type, 49, margin=1)\n",
    "\n",
    "        # convolution 1\n",
    "        # first we build the non-linear layer, which also constructs the right feature type\n",
    "        # we choose 8 feature fields, each transforming under the regular representation of SO(2) up to frequency 3\n",
    "        # When taking the ELU non-linearity, we sample the feature fields on N=16 points\n",
    "        activation1 = enn.FourierELU(self.r2_act, 8, irreps=self.G.bl_irreps(3), N=16, inplace=True)\n",
    "        out_type = activation1.in_type\n",
    "        self.block1 = enn.SequentialModule(\n",
    "            enn.R2Conv(in_type, out_type, kernel_size=7, padding=1, bias=False),\n",
    "            enn.IIDBatchNorm2d(out_type),\n",
    "            activation1,\n",
    "        )\n",
    "\n",
    "        # convolution 2\n",
    "        # the old output type is the input type to the next layer\n",
    "        in_type = self.block1.out_type\n",
    "        # the output type of the second convolution layer are 16 regular feature fields\n",
    "        activation2 = enn.FourierELU(self.r2_act, 16, irreps=self.G.bl_irreps(3), N=16, inplace=True)\n",
    "        out_type = activation2.in_type\n",
    "        self.block2 = enn.SequentialModule(\n",
    "            enn.R2Conv(in_type, out_type, kernel_size=5, padding=1, bias=False),\n",
    "            enn.IIDBatchNorm2d(out_type),\n",
    "            activation2\n",
    "        )\n",
    "        # to reduce the downsampling artifacts, we use a Gaussian smoothing filter\n",
    "        self.pool1 = enn.SequentialModule(\n",
    "            enn.PointwiseAvgPoolAntialiased(out_type, sigma=0.66, stride=2)\n",
    "        )\n",
    "\n",
    "        # convolution 3\n",
    "        # the old output type is the input type to the next layer\n",
    "        in_type = self.block2.out_type\n",
    "        # the output type of the third convolution layer are 32 regular feature fields\n",
    "        activation3 = enn.FourierELU(self.r2_act, 32, irreps=self.G.bl_irreps(3), N=16, inplace=True)\n",
    "        out_type = activation3.in_type\n",
    "        self.block3 = enn.SequentialModule(\n",
    "            enn.R2Conv(in_type, out_type, kernel_size=5, padding=2, bias=False),\n",
    "            enn.IIDBatchNorm2d(out_type),\n",
    "            activation3\n",
    "        )\n",
    "\n",
    "        # convolution 4\n",
    "        # the old output type is the input type to the next layer\n",
    "        in_type = self.block3.out_type\n",
    "        # the output type of the fourth convolution layer are 64 regular feature fields\n",
    "        activation4 = enn.FourierELU(self.r2_act, 32, irreps=self.G.bl_irreps(3), N=16, inplace=True)\n",
    "        out_type = activation4.in_type\n",
    "        self.block4 = enn.SequentialModule(\n",
    "            enn.R2Conv(in_type, out_type, kernel_size=5, padding=2, bias=False),\n",
    "            enn.IIDBatchNorm2d(out_type),\n",
    "            activation4\n",
    "        )\n",
    "        self.pool2 = enn.SequentialModule(\n",
    "            enn.PointwiseAvgPoolAntialiased(out_type, sigma=0.66, stride=2)\n",
    "        )\n",
    "\n",
    "        # convolution 5\n",
    "        # the old output type is the input type to the next layer\n",
    "        in_type = self.block4.out_type\n",
    "        # the output type of the fifth convolution layer are 96 regular feature fields\n",
    "        activation5 = enn.FourierELU(self.r2_act, 64, irreps=self.G.bl_irreps(3), N=16, inplace=True)\n",
    "        out_type = activation5.in_type\n",
    "        self.block5 = enn.SequentialModule(\n",
    "            enn.R2Conv(in_type, out_type, kernel_size=5, padding=2, bias=False),\n",
    "            enn.IIDBatchNorm2d(out_type),\n",
    "            activation5\n",
    "        )\n",
    "\n",
    "        # convolution 6\n",
    "        # the old output type is the input type to the next layer\n",
    "        in_type = self.block5.out_type\n",
    "        # the output type of the sixth convolution layer are 64 regular feature fields\n",
    "        activation6 = enn.FourierELU(self.r2_act, 64, irreps=self.G.bl_irreps(3), N=16, inplace=True)\n",
    "        out_type = activation6.in_type\n",
    "        self.block6 = enn.SequentialModule(\n",
    "            enn.R2Conv(in_type, out_type, kernel_size=5, padding=1, bias=False),\n",
    "            enn.IIDBatchNorm2d(out_type),\n",
    "            activation6\n",
    "        )\n",
    "        self.pool3 = enn.PointwiseAvgPoolAntialiased(out_type, sigma=0.66, stride=1, padding=0)\n",
    "        self.pool4 = enn.PointwiseAvgPoolAntialiased(out_type, sigma=0.66, stride=1, padding=0)\n",
    "        # number of output invariant channels\n",
    "        c = 64\n",
    "\n",
    "        # last 1x1 convolution layer, which maps the regular fields to c=64 invariant scalar fields\n",
    "        # this is essential to provide *invariant* features in the final classification layer\n",
    "        output_invariant_type = enn.FieldType(self.r2_act, c*[self.r2_act.trivial_repr])\n",
    "        self.invariant_map = enn.R2Conv(out_type, output_invariant_type, kernel_size=1, bias=False)\n",
    "\n",
    "        # Fully Connected classifier\n",
    "        self.fully_net = nn.Sequential(\n",
    "            nn.BatchNorm1d(c),\n",
    "            nn.ELU(inplace=True),\n",
    "            nn.Linear(c, n_classes),\n",
    "        )\n",
    "\n",
    "    def forward(self, input: torch.Tensor):\n",
    "        # wrap the input tensor in a GeometricTensor\n",
    "        # (associate it with the input type)\n",
    "        x = self.input_type(input)\n",
    "        # mask out the corners of the input image\n",
    "        x = self.mask(x)\n",
    "\n",
    "        # apply each equivariant block\n",
    "\n",
    "        # Each layer has an input and an output type\n",
    "        # A layer takes a GeometricTensor in input.\n",
    "        # This tensor needs to be associated with the same representation of the layer's input type\n",
    "        #\n",
    "        # Each layer outputs a new GeometricTensor, associated with the layer's output type.\n",
    "        # As a result, consecutive layers need to have matching input/output types\n",
    "        x = self.block1(x)\n",
    "        x = self.block2(x)\n",
    "        x = self.pool1(x)\n",
    "\n",
    "        x = self.block3(x)\n",
    "        x = self.block4(x)\n",
    "        x = self.pool2(x)\n",
    "\n",
    "        x = self.block5(x)\n",
    "        x = self.block6(x)\n",
    "\n",
    "        # pool over the spatial dimensions\n",
    "        x = self.pool3(x)\n",
    "        x = self.pool4(x)\n",
    "\n",
    "        # extract invariant features\n",
    "        x = self.invariant_map(x)\n",
    "\n",
    "        # unwrap the output GeometricTensor\n",
    "        # (take the Pytorch tensor and discard the associated representation)\n",
    "        x = x.tensor\n",
    "\n",
    "        # classify with the final fully connected layer\n",
    "        x = self.fully_net(x.reshape(x.shape[0], -1))\n",
    "\n",
    "        return x\n",
    "\n",
    "cnn_steerable = SO2SteerableCNN()#instantiate the model\n",
    "cnn_steerable.to(device)"
   ]
  },
  {
   "cell_type": "code",
   "execution_count": 14,
   "metadata": {},
   "outputs": [
    {
     "name": "stderr",
     "output_type": "stream",
     "text": [
      "  0%|          | 0/2 [00:00<?, ?it/s]"
     ]
    },
    {
     "name": "stdout",
     "output_type": "stream",
     "text": [
      "[1,    20] loss: 0.952\n",
      "[1,    40] loss: 0.472\n",
      "[1,    60] loss: 0.285\n",
      "[1,    80] loss: 0.193\n"
     ]
    },
    {
     "name": "stderr",
     "output_type": "stream",
     "text": [
      " 50%|█████     | 1/2 [00:11<00:11, 11.05s/it]"
     ]
    },
    {
     "name": "stdout",
     "output_type": "stream",
     "text": [
      "[2,    20] loss: 0.091\n",
      "[2,    40] loss: 0.068\n",
      "[2,    60] loss: 0.041\n",
      "[2,    80] loss: 0.027\n"
     ]
    },
    {
     "name": "stderr",
     "output_type": "stream",
     "text": [
      "100%|██████████| 2/2 [00:22<00:00, 11.04s/it]"
     ]
    },
    {
     "name": "stdout",
     "output_type": "stream",
     "text": [
      "Finished Training\n"
     ]
    },
    {
     "name": "stderr",
     "output_type": "stream",
     "text": [
      "\n"
     ]
    }
   ],
   "source": [
    "criterion = torch.nn.CrossEntropyLoss()\n",
    "optimizer = optim.Adam(cnn_steerable.parameters(), lr=0.001)\n",
    "\n",
    "for epoch in tqdm(range(2)):  # loop over the dataset multiple times\n",
    "\n",
    "    running_loss = 0.0\n",
    "    for i, data in enumerate(train_dataloader, 0):\n",
    "        # get the inputs; data is a list of [inputs, labels]\n",
    "        inputs, labels = data\n",
    "        inputs = inputs.to(device)\n",
    "        labels = labels.to(device)\n",
    "        \n",
    "        # zero the parameter gradients\n",
    "        optimizer.zero_grad()\n",
    "\n",
    "        # forward + backward + optimize\n",
    "        outputs = cnn_steerable(inputs)\n",
    "        loss = criterion(outputs, labels)\n",
    "        loss.backward()\n",
    "        optimizer.step()\n",
    "\n",
    "        # print statistics\n",
    "        running_loss += loss.item()\n",
    "        if i % 20 == 19:    # print every 20 mini-batches\n",
    "            print(f'[{epoch + 1}, {i + 1:5d}] loss: {running_loss / 20:.3f}')\n",
    "            running_loss = 0.0\n",
    "\n",
    "print('Finished Training')\n",
    "\n",
    "model_directory = current_directory+'/models/cnn_steerable.pth'\n",
    "torch.save(cnn_steerable.state_dict(), model_directory)\n",
    "     "
   ]
  },
  {
   "cell_type": "markdown",
   "metadata": {},
   "source": [
    "Like VanillaCNN, SO2SteerableCNN is trained only for 2 epochs and it has a very low loss for the training dataset. It is expected since this training dataset is very simple."
   ]
  },
  {
   "cell_type": "code",
   "execution_count": 15,
   "metadata": {},
   "outputs": [
    {
     "name": "stdout",
     "output_type": "stream",
     "text": [
      "Accuracy for class: Triangle is 100.0 %\n",
      "Accuracy for class: Circle is 100.0 %\n",
      "Accuracy for class: Square is 100.0 %\n",
      "Accuracy for class: Star  is 100.0 %\n",
      "Accuracy for class: Pentagon is 100.0 %\n",
      "Accuracy for class: Hexagon is 100.0 %\n",
      "Accuracy of the network on the 900 test images: 100 %\n"
     ]
    }
   ],
   "source": [
    "# prepare to count predictions for each class\n",
    "correct_pred = {classname: 0 for classname in classes}\n",
    "total_pred = {classname: 0 for classname in classes}\n",
    "\n",
    "# again no gradients needed\n",
    "with torch.no_grad():\n",
    "    for data in test_dataloader:\n",
    "        images, labels = data\n",
    "        images = images.to(device)\n",
    "        labels = labels.to(device)\n",
    "        labels = torch.argmax(labels, dim=1)\n",
    "        outputs = cnn_steerable(images)\n",
    "        _, predictions = torch.max(outputs, 1)\n",
    "        # collect the correct predictions for each class\n",
    "        for label, prediction in zip(labels, predictions):\n",
    "            if label == prediction:\n",
    "                correct_pred[classes[label]] += 1\n",
    "            total_pred[classes[label]] += 1\n",
    "\n",
    "correct = 0\n",
    "total = 0\n",
    "# print accuracy for each class\n",
    "for classname, correct_count in correct_pred.items():\n",
    "    accuracy = 100 * float(correct_count) / total_pred[classname]\n",
    "    print(f'Accuracy for class: {classname:5s} is {accuracy:.1f} %')\n",
    "    correct += correct_count\n",
    "    total += total_pred[classname]\n",
    "\n",
    "print(f'Accuracy of the network on the 900 test images: {100 * correct // total} %')"
   ]
  },
  {
   "cell_type": "markdown",
   "metadata": {},
   "source": [
    "It can be seen that SO2SteerableCNN performs perfectly with the test dataset without rotation."
   ]
  },
  {
   "cell_type": "code",
   "execution_count": 16,
   "metadata": {},
   "outputs": [
    {
     "name": "stdout",
     "output_type": "stream",
     "text": [
      "Accuracy for class: Triangle is 100.0 %\n",
      "Accuracy for class: Circle is 100.0 %\n",
      "Accuracy for class: Square is 100.0 %\n",
      "Accuracy for class: Star  is 100.0 %\n",
      "Accuracy for class: Pentagon is 100.0 %\n",
      "Accuracy for class: Hexagon is 100.0 %\n",
      "Accuracy of the network on the 900 test images: 100 %\n"
     ]
    }
   ],
   "source": [
    "# prepare to count predictions for each class\n",
    "correct_pred = {classname: 0 for classname in classes}\n",
    "total_pred = {classname: 0 for classname in classes}\n",
    "\n",
    "# again no gradients needed\n",
    "with torch.no_grad():\n",
    "    for data in test_rotation_dataloader:\n",
    "        images, labels = data\n",
    "        images = images.to(device)\n",
    "        labels = labels.to(device)\n",
    "        labels = torch.argmax(labels, dim=1)\n",
    "        outputs = cnn_steerable(images)\n",
    "        _, predictions = torch.max(outputs, 1)\n",
    "        # collect the correct predictions for each class\n",
    "        for label, prediction in zip(labels, predictions):\n",
    "            if label == prediction:\n",
    "                correct_pred[classes[label]] += 1\n",
    "            total_pred[classes[label]] += 1\n",
    "\n",
    "correct = 0\n",
    "total = 0\n",
    "# print accuracy for each class\n",
    "for classname, correct_count in correct_pred.items():\n",
    "    accuracy = 100 * float(correct_count) / total_pred[classname]\n",
    "    print(f'Accuracy for class: {classname:5s} is {accuracy:.1f} %')\n",
    "    correct += correct_count\n",
    "    total += total_pred[classname]\n",
    "\n",
    "print(f'Accuracy of the network on the 900 test images: {100 * correct // total} %')"
   ]
  },
  {
   "cell_type": "markdown",
   "metadata": {},
   "source": [
    "SO2SteerableCNN performs quite better than VanillaCNN for the rotated test dataset! It can be seen that the overall accuraccy increased and all the shapes has a reasonable accuracy level."
   ]
  },
  {
   "cell_type": "markdown",
   "metadata": {},
   "source": [
    "### Confusion Matrices and Visualization of Accuracies"
   ]
  },
  {
   "cell_type": "code",
   "execution_count": 17,
   "metadata": {},
   "outputs": [],
   "source": [
    "confusion_matrix_clean_vanilla = torch.zeros(6, 6)\n",
    "confusion_matrix_clean_steerable = torch.zeros(6, 6)\n",
    "\n",
    "with torch.no_grad():\n",
    "    for data in test_dataloader:\n",
    "        images, labels = data\n",
    "        images = images.to(device)\n",
    "        labels = labels.to(device)\n",
    "        labels = torch.argmax(labels, dim=1)\n",
    "        outputs = cnn_vanilla(images)\n",
    "        _, predictions_vanilla = torch.max(outputs, 1)\n",
    "        outputs = cnn_steerable(images)\n",
    "        _, predictions_steerable = torch.max(outputs, 1)\n",
    "        for t, p, s in zip(labels.view(-1), predictions_vanilla.view(-1), predictions_steerable.view(-1)):\n",
    "                confusion_matrix_clean_vanilla[t.long(), p.long()] += 1\n",
    "                confusion_matrix_clean_steerable[t.long(), s.long()] += 1\n",
    "\n",
    "confusion_matrix_clean_vanilla = confusion_matrix_clean_vanilla.numpy()\n",
    "confusion_matrix_clean_steerable = confusion_matrix_clean_steerable.numpy()"
   ]
  },
  {
   "cell_type": "code",
   "execution_count": 18,
   "metadata": {},
   "outputs": [
    {
     "data": {
      "image/png": "[encoded data removed]",
      "text/plain": [
       "<Figure size 1400x787.5 with 3 Axes>"
      ]
     },
     "metadata": {},
     "output_type": "display_data"
    }
   ],
   "source": [
    "width = 8\n",
    "height = 4.5\n",
    "fig, ax = plt.subplots(1,2)\n",
    "fig.set_size_inches(width, height) #exact size of the figure\n",
    "fig.set_dpi(175)\n",
    "\n",
    "\n",
    "# normalize each row\n",
    "confusion_matrix_clean_vanilla = confusion_matrix_clean_vanilla / confusion_matrix_clean_vanilla.sum(1)\n",
    "confusion_matrix_clean_steerable = confusion_matrix_clean_steerable / confusion_matrix_clean_steerable.sum(1)\n",
    "\n",
    "\n",
    "cax = ax[0].matshow(confusion_matrix_clean_vanilla)\n",
    "ax[0].set_title('Vanilla CNN')\n",
    "ax[0].set_xticklabels([''] + list_of_labels, rotation=90)\n",
    "ax[0].set_yticklabels([''] + list_of_labels)\n",
    "ax[0].set_xlabel('Predicted')\n",
    "ax[0].set_ylabel('Truth')\n",
    "\n",
    "cax = ax[1].matshow(confusion_matrix_clean_steerable)\n",
    "ax[1].set_title('Steerable CNN')\n",
    "ax[1].set_xticklabels([''] + list_of_labels, rotation=90)\n",
    "ax[1].set_yticklabels([''] + list_of_labels)\n",
    "ax[1].set_xlabel('Predicted')\n",
    "\n",
    "\n",
    "fig.subplots_adjust(wspace=0.4)\n",
    "fig.colorbar(cax, ax=ax.ravel().tolist(), shrink=0.6)\n",
    "# sup title \n",
    "fig.suptitle('Confusion Matrices of Clean Dataset')\n",
    "plt.show()"
   ]
  },
  {
   "cell_type": "markdown",
   "metadata": {},
   "source": [
    "The confusion matrices for the clean datasets are plotted above. It can be seen that both models are performing well for all the classes."
   ]
  },
  {
   "cell_type": "code",
   "execution_count": 19,
   "metadata": {},
   "outputs": [],
   "source": [
    "confusion_matrix_rot_vanilla = torch.zeros(6, 6)\n",
    "confusion_matrix_rot_steerable = torch.zeros(6, 6)\n",
    "\n",
    "with torch.no_grad():\n",
    "    for data in test_rotation_dataloader:\n",
    "        images, labels = data\n",
    "        images = images.to(device)\n",
    "        labels = labels.to(device)\n",
    "        labels = torch.argmax(labels, dim=1)\n",
    "        outputs = cnn_vanilla(images)\n",
    "        _, predictions_vanilla = torch.max(outputs, 1)\n",
    "        outputs = cnn_steerable(images)\n",
    "        _, predictions_steerable = torch.max(outputs, 1)\n",
    "        for t, p, s in zip(labels.view(-1), predictions_vanilla.view(-1), predictions_steerable.view(-1)):\n",
    "                confusion_matrix_rot_vanilla[t.long(), p.long()] += 1\n",
    "                confusion_matrix_rot_steerable[t.long(), s.long()] += 1\n",
    "\n",
    "confusion_matrix_rot_vanilla = confusion_matrix_rot_vanilla.numpy()\n",
    "confusion_matrix_rot_steerable = confusion_matrix_rot_steerable.numpy()"
   ]
  },
  {
   "cell_type": "code",
   "execution_count": 20,
   "metadata": {},
   "outputs": [
    {
     "data": {
      "image/png": "[encoded data removed]",
      "text/plain": [
       "<Figure size 1400x787.5 with 3 Axes>"
      ]
     },
     "metadata": {},
     "output_type": "display_data"
    }
   ],
   "source": [
    "width = 8\n",
    "height = 4.5\n",
    "fig, ax = plt.subplots(1,2)\n",
    "fig.set_size_inches(width, height) #exact size of the figure\n",
    "fig.set_dpi(175)\n",
    "\n",
    "\n",
    "# normalize each row\n",
    "confusion_matrix_rot_vanilla = confusion_matrix_rot_vanilla / confusion_matrix_rot_vanilla.sum(1)\n",
    "confusion_matrix_rot_steerable = confusion_matrix_rot_steerable / confusion_matrix_rot_steerable.sum(1)\n",
    "\n",
    "\n",
    "cax = ax[0].matshow(confusion_matrix_rot_vanilla)\n",
    "ax[0].set_title('Vanilla CNN')\n",
    "ax[0].set_xticklabels([''] + list_of_labels, rotation=90)\n",
    "ax[0].set_yticklabels([''] + list_of_labels)\n",
    "ax[0].set_xlabel('Predicted')\n",
    "ax[0].set_ylabel('Truth')\n",
    "\n",
    "cax = ax[1].matshow(confusion_matrix_rot_steerable)\n",
    "ax[1].set_title('Steerable CNN')\n",
    "ax[1].set_xticklabels([''] + list_of_labels, rotation=90)\n",
    "ax[1].set_yticklabels([''] + list_of_labels)\n",
    "ax[1].set_xlabel('Predicted')\n",
    "\n",
    "\n",
    "fig.subplots_adjust(wspace=0.4)\n",
    "fig.colorbar(cax, ax=ax.ravel().tolist(), shrink=0.6)\n",
    "# sup title \n",
    "fig.suptitle('Confusion Matrices of Rotated Dataset')\n",
    "plt.show()"
   ]
  },
  {
   "cell_type": "markdown",
   "metadata": {},
   "source": [
    "The confusion matrices for the test dataset with the rotation is plotted above. It can be seen that SO2Steerable performs well for all the classes. However, VanillaCNN struggles for all the geometric shapes except than circle as expected. It can be seen that it confuses pentagon shape with hexagon. It mostly guesses the hexagons as circles. It could be due to the smoothing effect of upscaling and downscaling. "
   ]
  }
 ],
 "metadata": {
  "kernelspec": {
   "display_name": "shapes_project",
   "language": "python",
   "name": "python3"
  },
  "language_info": {
   "codemirror_mode": {
    "name": "ipython",
    "version": 3
   },
   "file_extension": ".py",
   "mimetype": "text/x-python",
   "name": "python",
   "nbconvert_exporter": "python",
   "pygments_lexer": "ipython3",
   "version": "3.10.13"
  }
 },
 "nbformat": 4,
 "nbformat_minor": 2
}
